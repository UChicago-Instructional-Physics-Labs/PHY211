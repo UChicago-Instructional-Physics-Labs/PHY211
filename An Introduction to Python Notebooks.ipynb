{
 "cells": [
  {
   "cell_type": "markdown",
   "metadata": {},
   "source": [
    "An important part of the advanced lab courses is learning how to properly analyze data and professionally present results. Many basic plotting or spreadsheet-based programs like _Microsoft Excel, Kaleidagraph_ and _Graphical Analysis_ either are not capable of doing the rigorous error analysis we require or do so in a “black-box”, hidden way. Additionally, these programs have limited capabilities for manipulating plots when making figures.\n",
    "\n",
    "For these reasons (as well as an overall desire to introduce basic programming into the undergraduate physics curriculum), we will be using [Python](https://www.python.org/) in this course to handle the analysis and presentation of data for reports.\n",
    "\n",
    "[Running Python and Jupyter Notebook](#Running-Python-and-Jupyter-Notebook)  \n",
    "* [Basic features of Python scripts and notebooks](#Basic-features-of-Python-scripts-and-notebooks)  \n",
    "* [Header](#Header)  \n",
    "* [Comments](#Comments)  \n",
    "* [Floats, integers and strings](#Floats,-integers-and-strings)  \n",
    "* [Raising a number to a power](#Raising-a-number-to-a-power)  \n",
    "* [Comparing variables](#Comparing-variables)  \n",
    "* [Indentation](#Indentation)  "
   ]
  },
  {
   "cell_type": "markdown",
   "metadata": {},
   "source": [
    "# Running Python and Jupyter Notebook\n",
    "--- \n",
    "\n",
    "Jupyter does not use script files (*.py files), but instead uses notebooks (*.ipynb files). These **notebooks** consist of a number of **cells**, and these cells can either be Python code, markdown text, or plain text (Raw NBConvert). The notebook allows you to run your Python snippets individually (no need to re-run the whole program to update just one plot, for example) and the non-Python cells allow you to add formatted text comments, hyperlinks, images and more. **To execute a cell, hit `shift+enter`**. (That will run the code or execute the markdown syntax.)\n",
    "\n",
    "[Here is a good primer](https://medium.com/ibm-data-science-experience/markdown-for-jupyter-notebooks-cheatsheet-386c05aeebed) on some markdown syntax that can help make your comment cells clearer and more useful.  Note that this syntax is not part of Python, so it will not function in code cells.\n",
    "\n",
    "code cells are denoted with a <span style=\"color:darkblue; font-family:monospace\">In []:</span> to the left of them\n",
    "\n",
    "Try running the cell below"
   ]
  },
  {
   "cell_type": "code",
   "execution_count": null,
   "metadata": {},
   "outputs": [],
   "source": [
    "print(\"I ran some code!\")"
   ]
  },
  {
   "cell_type": "markdown",
   "metadata": {},
   "source": [
    "# Basic features of Python scripts and notebooks\n",
    "---\n",
    "## Header\n",
    "The top section of the code is where you (typically) import **modules** (sometimes called **libraries**). A module is a file containing some Python code. Importing a module creates a namespace which is a list of names. Names can be variables, functions, lists of variables, etc. Think of importing a module as importing a bunch of prepackaged definitions.\n",
    "\n",
    "To access a name from an imported namespace, call it using the form “namespace.name”. For example, if the module called `coolstuff` contains a function called `geewhiz()` you can now use it as `coolstuff.geewhiz()`.\n",
    "\n",
    "There are a couple ways to import modules:\n",
    "\n",
    "<code>import someModule</code>\n",
    "\n",
    "A namespace is created named \"someModule\" and the contents of the module can be accessed as \"someModule.name\"\n",
    "\n",
    "<code>import someModlue as newlyNamedModule </code>\n",
    "\n",
    "A namespace is created named \"newlyNamedModule\" and the contents of the module can be accessed as \"newlyNamedModule.name\"\n",
    "\n",
    "<code>from someModule import justTheOneNameYouWant </code>\n",
    "\n",
    "Only the listed name is imported. To call that name, you do not need to specify the namespace, just the name. However, be careful not to reuse that name in your own code or your newer definition will replace the imported one.\n",
    "\n",
    "<code>from someModule import *</code>\n",
    "\n",
    "All names from the module will be imported. To call a name, you do not need to specify the namespace, just the name. However, again, if you reuse that name in your own code, the newer definition will replace the imported one.\n",
    "\n",
    "For this class, the three most common libraries we will pull from are `numpy`, `scipy`, and `matplotlib.pyplot`.\n",
    "\n",
    "As an example, let's make a basic plot using the pyplot"
   ]
  },
  {
   "cell_type": "code",
   "execution_count": null,
   "metadata": {},
   "outputs": [],
   "source": [
    "from matplotlib import pyplot as plt\n",
    "plt.plot([1, 2, 3, 4])\n",
    "plt.ylabel('some numbers')\n",
    "plt.show()\n",
    "    #Note that you may have to run this command twice for the plot to show up."
   ]
  },
  {
   "cell_type": "markdown",
   "metadata": {},
   "source": [
    "## Comments\n",
    "Comments are commands that are ignored by Python. They can appear anywhere in the code and are preceded by `#`. They may even begin mid-way through a line, though they always “end” when the line finishes.\n",
    "\n",
    "If you want to do a multi-line comment, you must use the clunkier system of “triple quotes”. Anything after three apostrophes – `'''` – will be ignored until three more apostrophes appear to close the quote.\n",
    "\n",
    "Note that Jupyter Notebook will \"help\" you by automatically creating a closing set of tripple quotes, which you may need to delete if you're trying to comment out a bit of code."
   ]
  },
  {
   "cell_type": "code",
   "execution_count": null,
   "metadata": {},
   "outputs": [],
   "source": [
    "# This is a comment\n",
    "print(\"Hello world\")# This is a comment too... but only the part after the #\n",
    "'''Now, we’re in a multi-line comment...\n",
    "... and we’re still in it...\n",
    "... but now we’re at the end'''\n",
    "print(\"What’s your name?\")\n",
    "\n",
    "#print(\"This was commented out and won't print\")"
   ]
  },
  {
   "cell_type": "markdown",
   "metadata": {},
   "source": [
    "Try deleting the comment tag on the last print statement, and running the cell again.  \n",
    "\n",
    "Comments are a useful way to keep backups of functioning code around while you experiment."
   ]
  },
  {
   "cell_type": "markdown",
   "metadata": {},
   "source": [
    "## Floats, integers and strings\n",
    "In the above example we used the built-in Python command `print()` which will display whatever follows on the screen. We can have “print” show multiple things by separating them by commas or we can have “print” create a blank line by giving it no argument at all. If “print” is followed by a variable, it will display the current value associated with that variable. If we want to display text, we must pass “print” a **string** which is a list of characters contained in either single or double quotes.\n",
    "\n",
    "For example, run the following code:"
   ]
  },
  {
   "cell_type": "code",
   "execution_count": null,
   "metadata": {},
   "outputs": [],
   "source": [
    "a = 3.14159\n",
    "b=1\n",
    "c = 'Q: Am I a string?'\n",
    "print(a, b)\n",
    "print()\n",
    "print(c)\n",
    "print(\"A:\",\"Yes you are.\")"
   ]
  },
  {
   "cell_type": "markdown",
   "metadata": {},
   "source": [
    "Note a few things.\n",
    "\n",
    "First, “print” automatically inserts a single space between arguments; there is a single space between 3.14159 and 1 and a space was automatically added between “A:” and “Yes...”\n",
    "\n",
    "Second, single and double quotes are treated identically to identify strings, but you cannot mix them; you must begin and end with the same type.\n",
    "\n",
    "Finally, our variables `a`, `b` and `c` each held a different type of data. The variable a is a floating point number(**float**) (that is, a number with a decimal value), b is an integer(**int**), and c is a string(**str**).\n",
    "\n",
    "If you aren't what kind of variable something is, you can use the `type` command to find out."
   ]
  },
  {
   "cell_type": "code",
   "execution_count": null,
   "metadata": {},
   "outputs": [],
   "source": [
    "print(\"a is a\",type(a))\n",
    "print(\"b is a\",type(b))\n",
    "print(\"c is a\",type(c))"
   ]
  },
  {
   "cell_type": "markdown",
   "metadata": {},
   "source": [
    "## Lists and numpy arrays\n",
    "\n",
    "Besides the variable types shown above, we can also assign a whole list to a variable. **Lists** in Python are contained in square brackets and elements are separated by commas; lists can also be nested to form higher dimensional arrays or tensors. We can act on lists with mathematical operators, but the results can sometimes be confusing.\n",
    "\n",
    "Run the following example:"
   ]
  },
  {
   "cell_type": "code",
   "execution_count": null,
   "metadata": {},
   "outputs": [],
   "source": [
    "a = [1, 2, 3, 4]\n",
    "b = [9, 8, 7, 6]\n",
    "print('[a,b] =', [a,b])\n",
    "print('a + b =', a + b)\n",
    "print('2*a =', 2*a)"
   ]
  },
  {
   "cell_type": "markdown",
   "metadata": {},
   "source": [
    "The first line is a nested list (as expected). In the second line, Python interprets “+” to mean “add second list to the end of the first list.” In the third line, Python interprets “2*a” to be “a + a” and again appends the second list to the first.\n",
    "\n",
    "Can we instead treat lists more naturally so that we can act on them with operators in a normal way? Within the `numpy` library, there is a variable type known as the **array**. If we use arrays instead of lists, then mathematical operations carry their normal meaning and we can use lists of variables in the same way we use variables themselves."
   ]
  },
  {
   "cell_type": "code",
   "execution_count": null,
   "metadata": {},
   "outputs": [],
   "source": [
    "import numpy as np\n",
    "a = np.array([1, 2, 3, 4])\n",
    "b = np.array([9, 8, 7, 6])\n",
    "print('a + b =', a + b)\n",
    "print('2*a =', 2*a)\n",
    "print('2*a =', 1.5 + b)\n"
   ]
  },
  {
   "cell_type": "markdown",
   "metadata": {},
   "source": [
    "This time, adding the arrays meant adding each element, multiplying the arrays meant multiplying each element, and adding a number to an array, meant adding that number to each element.\n",
    "\n",
    "If you want to select just one element of a list or array, you may select it by specifying the **index** between square brackets, e.g. `a[i]`. The counter always begins with zero, so a list of four items has elements with indices 0, 1, 2 and 3. You can also use the negative sign to count from the end; `a[-1]` will return the last element of the list a.\n",
    "\n",
    "If you want to select a subset of the list, you can specify the start and end points in the form `a[m:n]`. Note that it will include the element at the starting index, but exclude the element at the ending index.\n",
    "\n",
    "Omitting the first index will include all elements from the beginning of the list. Omitting the second index will include all elements to the end of the list.\n",
    "\n",
    "You may select every nth element of a list by using two colons, e.g. `a[::n]`."
   ]
  },
  {
   "cell_type": "code",
   "execution_count": null,
   "metadata": {},
   "outputs": [],
   "source": [
    "a = [0, 1, 2, 3, 4, 5]\n",
    "print(a[1])\n",
    "print(a[-1])\n",
    "print(a[1:4])\n",
    "print(a[:-1])\n",
    "print(a[::2])\n",
    "print(a[::3])"
   ]
  },
  {
   "cell_type": "markdown",
   "metadata": {},
   "source": [
    "## Raising a number to a power\n",
    "Python, has an unusual notation for raising a number to a power: two asterisks."
   ]
  },
  {
   "cell_type": "code",
   "execution_count": null,
   "metadata": {},
   "outputs": [],
   "source": [
    "print('2 squared is', 2**2)\n",
    "print('2 cubed is', 2**3)\n",
    "print('the square root of 4 is', 4**0.5)"
   ]
  },
  {
   "cell_type": "markdown",
   "metadata": {},
   "source": [
    "## Comparing variables\n",
    "In programming, some symbols have slightly different meanings from those used in pure mathematics.\n",
    "\n",
    "Take, for example, the equal sign. In Python (as in all programming languages), the equal sign is used to **assign** a value; it does not represent equality. Importantly, the left hand side and right hand side have different meanings and are treated at different times. During an assignment, the right hand side is evaluated first and the result is stored as the variable(s) given on the left hand side. \n",
    "\n",
    "The following assignments are allowed:"
   ]
  },
  {
   "cell_type": "code",
   "execution_count": null,
   "metadata": {},
   "outputs": [],
   "source": [
    "x = 1 #assigns the integer 1 to the variable x\n",
    "y,z = 2,5 #assigns 2 to y and 5 to z, respectively.\n",
    "x = x + 1 #takes the current value of x, adds 1 to it, then assigns this new value to x\n",
    "x = a + b #sums the current values of a and b and assigns that sum tox"
   ]
  },
  {
   "cell_type": "markdown",
   "metadata": {},
   "source": [
    "The following assignments are not allowed:"
   ]
  },
  {
   "cell_type": "code",
   "execution_count": null,
   "metadata": {},
   "outputs": [],
   "source": [
    "1 = x #x cannot be assigned to a number (it isn’t a variable)"
   ]
  },
  {
   "cell_type": "code",
   "execution_count": null,
   "metadata": {},
   "outputs": [],
   "source": [
    "x + 1 = x #the left hand side is an expression, not a variable"
   ]
  },
  {
   "cell_type": "markdown",
   "metadata": {},
   "source": [
    "One can make comparisons between variables of the same type, with a few caveats.\n",
    "\n",
    "* A comparison returns a Boolean value: `True` or `False`\n",
    "\n",
    "* Numbers can be compared\n",
    "\n",
    "    * Greater than: `a > b`\n",
    "\n",
    "    * Less than: `a < b`\n",
    "\n",
    "    * Greater than or equal to: `a >= b`\n",
    "\n",
    "    * Less than or equal to: `a <= b`\n",
    "\n",
    "    * Equal: `a == b`\n",
    "\n",
    "    * Not equal: `a != b`\n",
    "\n",
    "* Equality can be checked between strings\n",
    "* One can construct complicated comparisons using the words `and` and `or`\n",
    "    * `a > 1 and b > 2`\n",
    "    * `a == 14 or b < 2`"
   ]
  },
  {
   "cell_type": "code",
   "execution_count": null,
   "metadata": {},
   "outputs": [],
   "source": [
    "a = 1\n",
    "b= 5\n",
    "c = 'Hello'\n",
    "d = 'Hulloh'\n",
    "e = 'He' + 'llo'\n",
    "print(a > b)\n",
    "print(a < b)\n",
    "print(c == d)\n",
    "print(c == e)\n",
    "print(c == d and a < b)\n",
    "print(c == d or a < b)"
   ]
  },
  {
   "cell_type": "markdown",
   "metadata": {},
   "source": [
    "## Indentation\n",
    "Indentation has meaning in Python. You may always include white space in the middle of a line or a blank line in the middle of your program, but you may not always be able to include an arbitrary amount of white space at the beginning of a line.\n",
    "\n",
    "Loops use indents to delimit different levels. A new loop begins when the indent increases and a loop ends when the indent decreases back to a previous indent level. Look at the following example:"
   ]
  },
  {
   "cell_type": "code",
   "execution_count": null,
   "metadata": {},
   "outputs": [],
   "source": [
    "x,y = 5, 5 \n",
    "\n",
    "if x > 4:\n",
    "    print(\"x is greater than 4...\")\n",
    "    if y < 1:\n",
    "        print(\"...and y is less than 1\")\n",
    "    else:\n",
    "        print(\"...and y is greater than or equal to 1\")\n",
    "else:\n",
    "    print(\"x is less than or equal to 4...\")\n",
    "    print(\"...and nobody cares about y\")"
   ]
  },
  {
   "cell_type": "markdown",
   "metadata": {},
   "source": [
    "Here, we see three indent levels. Let’s look at three outputs for given values of x and y.\n",
    "Try using \n",
    "* x,y = 5,5\n",
    "* x,y = 5,0\n",
    "* z,y = 1,5\n"
   ]
  },
  {
   "cell_type": "markdown",
   "metadata": {},
   "source": [
    "## Loops\n",
    "If you have a list of items and want to do something with each element individually, you'll want a loop.  For instance, let's use a loop to change the input of our previous function.\n",
    "\n",
    "Loops have the following structure:\n",
    "`for a in b:`\n",
    "\n",
    "    `for` is the keyword for starting a loop\n",
    "\n",
    "    `a` is the variable that will be looped over\n",
    "\n",
    "    `in b` is the thing that variables will be selected from\n",
    "\n",
    "    `:` indicates the end of the loop declaration.\n",
    "\n",
    "Note that the code that will be looped over is indented, just like conditional statements.\n",
    "\n",
    "Often we'll define a `range` that we want to loop over\n",
    "\n",
    "`for x in range(1,6):` will create a loop that start `x` at 1 and increment by 1 until it reaches 6, at which point it will stop.\n",
    "\n",
    "Note that the loop will always stop 1 short of the end value, and plan accordingly."
   ]
  },
  {
   "cell_type": "code",
   "execution_count": null,
   "metadata": {},
   "outputs": [],
   "source": [
    "y = 5\n",
    "\n",
    "for x in range(1,6):\n",
    "    print(\"x =\",x)\n",
    "    if x > 4:\n",
    "        print(\"x is greater than 4...\")\n",
    "        if y < 1:\n",
    "            print(\"...and y is less than 1\")\n",
    "        else:\n",
    "            print(\"...and y is greater than or equal to 1\")\n",
    "    else:\n",
    "        print(\"x is less than or equal to 4...\")\n",
    "        print(\"...and nobody cares about y\")"
   ]
  },
  {
   "cell_type": "markdown",
   "metadata": {},
   "source": [
    "You can also nest loops, letting you systematically change multiple variables at once"
   ]
  },
  {
   "cell_type": "code",
   "execution_count": null,
   "metadata": {},
   "outputs": [],
   "source": [
    "for x in range(4,6):\n",
    "    for y in range(-1,2):\n",
    "        print(\"x =\",x, \"y =\",y)\n",
    "        if x > 4:\n",
    "            print(\"x is greater than 4...\")\n",
    "            if y < 1:\n",
    "                print(\"...and y is less than 1\")\n",
    "            else:\n",
    "                print(\"...and y is greater than or equal to 1\")\n",
    "        else:\n",
    "            print(\"x is less than or equal to 4...\")\n",
    "            print(\"...and nobody cares about y\")"
   ]
  },
  {
   "cell_type": "code",
   "execution_count": null,
   "metadata": {},
   "outputs": [],
   "source": []
  }
 ],
 "metadata": {
  "kernelspec": {
   "display_name": "Python 3",
   "language": "python",
   "name": "python3"
  },
  "language_info": {
   "codemirror_mode": {
    "name": "ipython",
    "version": 3
   },
   "file_extension": ".py",
   "mimetype": "text/x-python",
   "name": "python",
   "nbconvert_exporter": "python",
   "pygments_lexer": "ipython3",
   "version": "3.6.8"
  }
 },
 "nbformat": 4,
 "nbformat_minor": 2
}
